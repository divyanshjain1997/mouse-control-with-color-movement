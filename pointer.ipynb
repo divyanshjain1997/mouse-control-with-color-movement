{
 "cells": [
  {
   "cell_type": "markdown",
   "metadata": {},
   "source": [
    "# Finger movement to control mouse pointer "
   ]
  },
  {
   "cell_type": "code",
   "execution_count": 1,
   "metadata": {},
   "outputs": [],
   "source": [
    "import cv2\n",
    "import numpy as np\n",
    "import wx\n",
    "from pynput.mouse import Controller,Button"
   ]
  },
  {
   "cell_type": "code",
   "execution_count": 2,
   "metadata": {},
   "outputs": [],
   "source": [
    "app=wx.App(False)"
   ]
  },
  {
   "cell_type": "code",
   "execution_count": 3,
   "metadata": {},
   "outputs": [],
   "source": [
    "(sx,sy)=wx.DisplaySize()"
   ]
  },
  {
   "cell_type": "code",
   "execution_count": 4,
   "metadata": {},
   "outputs": [],
   "source": [
    "mloc0ld=np.array([0,0])\n",
    "mloc=np.array([0,0])\n",
    "damp=2"
   ]
  },
  {
   "cell_type": "markdown",
   "metadata": {},
   "source": [
    "## Yellow color to control mouse pointer and Red color to control left click"
   ]
  },
  {
   "cell_type": "code",
   "execution_count": 12,
   "metadata": {},
   "outputs": [
    {
     "name": "stdout",
     "output_type": "stream",
     "text": [
      "a\n",
      "a\n",
      "a\n",
      "a\n"
     ]
    }
   ],
   "source": [
    "lowerbnd=np.array([20,10,20])\n",
    "upperbnd=np.array([35,255,255])\n",
    "\n",
    "lowerbnd_b=np.array([0,170,20])\n",
    "upperbnd_b=np.array([5,255,255])\n",
    "\n",
    "kernel=np.ones((10,10))\n",
    "kernelc=np.ones((30,30))\n",
    "\n",
    "cam=cv2.VideoCapture(0)\n",
    "(camx,camy)=(320,240)\n",
    "cam.set(3,camx)\n",
    "cam.set(4,camy)\n",
    "\n",
    "\n",
    "area0ld=1\n",
    "areaNew=0\n",
    "\n",
    "flag=0\n",
    "\n",
    "mouse=Controller()\n",
    "\n",
    "a=np.zeros((240,320))\n",
    "\n",
    "while True:\n",
    "    ret,img=cam.read()\n",
    "    #imre=cv2.resize(img,(320,220))\n",
    "    img=cv2.flip(img,1)\n",
    "    imghsv=cv2.cvtColor(img,cv2.COLOR_BGR2HSV)\n",
    "    mask=cv2.inRange(imghsv,lowerbnd,upperbnd)\n",
    "    morp=cv2.morphologyEx(mask,cv2.MORPH_OPEN,kernel)\n",
    "    morpc=cv2.morphologyEx(morp,cv2.MORPH_CLOSE,kernelc)\n",
    "    im,conts,h=cv2.findContours(morpc.copy(),cv2.RETR_EXTERNAL,cv2.CHAIN_APPROX_SIMPLE)\n",
    "    \n",
    "    mask_b=cv2.inRange(imghsv,lowerbnd_b,upperbnd_b)\n",
    "    morp_b=cv2.morphologyEx(mask_b,cv2.MORPH_OPEN,kernel)\n",
    "    morpc_b=cv2.morphologyEx(morp_b,cv2.MORPH_CLOSE,kernelc)\n",
    "    im_b,conts_b,h_b=cv2.findContours(morpc_b.copy(),cv2.RETR_EXTERNAL,cv2.CHAIN_APPROX_SIMPLE)\n",
    "    \n",
    "\n",
    "\n",
    "    if (len(conts)==1):\n",
    "        x1,y1,w1,h1=cv2.boundingRect(conts[0])\n",
    "        #x2,y2,w2,h2=cv2.boundingRect(conts[1])\n",
    "        cv2.rectangle(img,(x1,y1),(x1+w1,y1+h1),(0,0,255),2)\n",
    "        '''if(flag>=10):\n",
    "            if((h1-area0ld)/area0ld>1):\n",
    "                mouse.press(Button.left)\n",
    "                print(\"y\")\n",
    "            mouse.release(Button.left)\n",
    "         \n",
    "        else:\n",
    "            \n",
    "            area0ld=h1\n",
    "            flag+=1'''\n",
    "        \n",
    "        #cv2.rectangle(img,(x2,y2),(x2+w2,y2+h2),(0,0,255),2)\n",
    "        (px1,py1)=(int(x1+w1/2),int(y1+h1/2))\n",
    "        #(px2,py2)=(int(x2+w2/2),int(y2+h2/2))\n",
    "        cv2.circle(img,(px1,py1),1,(0,0,255),2)\n",
    "        (cx,cy)=(px1,py1)\n",
    "        \n",
    "        \n",
    "        ''' \n",
    "        mouse.position=(cx*sx//camx,cy*sy//camy)\n",
    "        print(mouse.position)\n",
    "        while(mouse.position!=(cx*sx//camx,cy*sy//camy)):\n",
    "            pass'''\n",
    "        mloc=mloc0ld+((cx,cy)-mloc0ld)//damp\n",
    "        \n",
    "        #print(type(mloc[0]),type(int(mloc[1])),type(cx),type(cy))\n",
    "        mouse.position=(int(mloc[0])*sx//camx,int(mloc[1])*sy//camy)\n",
    "        \n",
    "\n",
    "        #print(mouse.position)\n",
    "        #while(mouse.position!=(int(mloc[0])*sx//camx,int(mloc[1])*sy//camy)):\n",
    "            #pass\n",
    "        mloc0ld=mloc\n",
    "        \n",
    "    if(len(conts_b)>=1):\n",
    "        xb,yb,wb,hb=cv2.boundingRect(conts_b[0])\n",
    "        #x2,y2,w2,h2=cv2.boundingRect(conts[1])\n",
    "        cv2.rectangle(img,(xb,yb),(xb+wb,yb+hb),(0,255,255),2)\n",
    "        if(flag==0):\n",
    "            mouse.press(Button.left)\n",
    "            flag=1\n",
    "            \n",
    "        else:\n",
    "            #print(\"a\")\n",
    "            mouse.release(Button.left)\n",
    "            flag=0\n",
    "    \n",
    "        \n",
    "        \n",
    "        \n",
    "\n",
    "            \n",
    "        \n",
    "    \n",
    "    \n",
    "    \n",
    "    cv2.imshow(\"img\",img)\n",
    "    #cv2.imshow(\"mask\",morpc)\n",
    "    \n",
    "    if(cv2.waitKey(1)==ord('q')):\n",
    "        break\n",
    "    \n",
    "cam.release()\n",
    "cv2.destroyAllWindows()   "
   ]
  },
  {
   "cell_type": "code",
   "execution_count": 10,
   "metadata": {},
   "outputs": [],
   "source": [
    "cam.release()"
   ]
  }
 ],
 "metadata": {
  "kernelspec": {
   "display_name": "Python 3",
   "language": "python",
   "name": "python3"
  },
  "language_info": {
   "codemirror_mode": {
    "name": "ipython",
    "version": 3
   },
   "file_extension": ".py",
   "mimetype": "text/x-python",
   "name": "python",
   "nbconvert_exporter": "python",
   "pygments_lexer": "ipython3",
   "version": "3.6.5"
  }
 },
 "nbformat": 4,
 "nbformat_minor": 2
}
